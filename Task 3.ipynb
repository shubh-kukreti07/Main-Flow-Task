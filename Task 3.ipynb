{
 "cells": [
  {
   "cell_type": "code",
   "execution_count": 1,
   "id": "4cdbd5cf",
   "metadata": {},
   "outputs": [
    {
     "data": {
      "text/plain": [
       "[]"
      ]
     },
     "execution_count": 1,
     "metadata": {},
     "output_type": "execute_result"
    }
   ],
   "source": [
    "import tensorflow as tf\n",
    "tf.config.experimental.list_physical_devices('GPU')"
   ]
  },
  {
   "cell_type": "code",
   "execution_count": 2,
   "id": "4c8a2098",
   "metadata": {},
   "outputs": [],
   "source": [
    "import pandas as pd\n",
    "from sklearn.model_selection import train_test_split\n",
    "from sklearn.preprocessing import StandardScaler\n",
    "from sklearn.impute import SimpleImputer"
   ]
  },
  {
   "cell_type": "code",
   "execution_count": 3,
   "id": "b2a4750f",
   "metadata": {},
   "outputs": [
    {
     "name": "stdout",
     "output_type": "stream",
     "text": [
      "   participantID  age nativeLanguage gender  education        city  country  \\\n",
      "0             12   28          URU_R     Fe          4  Montevideo  Uruguay   \n",
      "1             12   28          URU_R     Fe          4  Montevideo  Uruguay   \n",
      "2             12   28          URU_R     Fe          4  Montevideo  Uruguay   \n",
      "3             12   28          URU_R     Fe          4  Montevideo  Uruguay   \n",
      "4             12   28          URU_R     Fe          4  Montevideo  Uruguay   \n",
      "\n",
      "   responseID   section      cue       R1        R2         R3  \n",
      "0         128  set_2013      bar  abierto   cerveza      noche  \n",
      "1         129  set_2013     tren  expreso  nocturno       bala  \n",
      "2         130  set_2013     mano    libre   derecha    hermano  \n",
      "3         131  set_2013     sopa     fría   Mafalda      verde  \n",
      "4         132  set_2013  especie      ave    Darwin  extinción  \n",
      "<class 'pandas.core.frame.DataFrame'>\n",
      "RangeIndex: 558503 entries, 0 to 558502\n",
      "Data columns (total 13 columns):\n",
      " #   Column          Non-Null Count   Dtype \n",
      "---  ------          --------------   ----- \n",
      " 0   participantID   558503 non-null  int64 \n",
      " 1   age             558503 non-null  int64 \n",
      " 2   nativeLanguage  535914 non-null  object\n",
      " 3   gender          558503 non-null  object\n",
      " 4   education       558503 non-null  int64 \n",
      " 5   city            406872 non-null  object\n",
      " 6   country         555965 non-null  object\n",
      " 7   responseID      558503 non-null  int64 \n",
      " 8   section         558503 non-null  object\n",
      " 9   cue             558503 non-null  object\n",
      " 10  R1              558440 non-null  object\n",
      " 11  R2              558445 non-null  object\n",
      " 12  R3              558427 non-null  object\n",
      "dtypes: int64(4), object(9)\n",
      "memory usage: 55.4+ MB\n",
      "None\n"
     ]
    }
   ],
   "source": [
    "\n",
    "file_path = r\"C:\\Users\\shubh\\Downloads\\DATA - 3.csv\"\n",
    "data = pd.read_csv(file_path)\n",
    "\n",
    "print(data.head())\n",
    "print(data.info())\n"
   ]
  },
  {
   "cell_type": "code",
   "execution_count": 4,
   "id": "fbe54702",
   "metadata": {},
   "outputs": [
    {
     "name": "stdout",
     "output_type": "stream",
     "text": [
      "participantID          0\n",
      "age                    0\n",
      "nativeLanguage     22589\n",
      "gender                 0\n",
      "education              0\n",
      "city              151631\n",
      "country             2538\n",
      "responseID             0\n",
      "section                0\n",
      "cue                    0\n",
      "R1                    63\n",
      "R2                    58\n",
      "R3                    76\n",
      "dtype: int64\n"
     ]
    }
   ],
   "source": [
    "from sklearn.preprocessing import LabelEncoder\n",
    "\n",
    "print(data.isnull().sum())"
   ]
  },
  {
   "cell_type": "code",
   "execution_count": 5,
   "id": "136deceb",
   "metadata": {},
   "outputs": [
    {
     "name": "stdout",
     "output_type": "stream",
     "text": [
      "participantID      0\n",
      "age                0\n",
      "nativeLanguage     0\n",
      "gender             0\n",
      "education          0\n",
      "city               0\n",
      "country            0\n",
      "responseID         0\n",
      "section            0\n",
      "cue                0\n",
      "R1                63\n",
      "R2                58\n",
      "R3                76\n",
      "dtype: int64\n"
     ]
    }
   ],
   "source": [
    "data['nativeLanguage'].fillna('Unknown', inplace=True)\n",
    "data['city'].fillna('Unknown', inplace=True)\n",
    "data['country'].fillna('Unknown', inplace=True)\n",
    "print(data.isnull().sum())"
   ]
  },
  {
   "cell_type": "code",
   "execution_count": 6,
   "id": "1b4af591",
   "metadata": {},
   "outputs": [
    {
     "name": "stdout",
     "output_type": "stream",
     "text": [
      "participantID     0\n",
      "age               0\n",
      "nativeLanguage    0\n",
      "gender            0\n",
      "education         0\n",
      "city              0\n",
      "country           0\n",
      "responseID        0\n",
      "section           0\n",
      "cue               0\n",
      "R1                0\n",
      "R2                0\n",
      "R3                0\n",
      "dtype: int64\n"
     ]
    },
    {
     "data": {
      "text/html": [
       "<div>\n",
       "<style scoped>\n",
       "    .dataframe tbody tr th:only-of-type {\n",
       "        vertical-align: middle;\n",
       "    }\n",
       "\n",
       "    .dataframe tbody tr th {\n",
       "        vertical-align: top;\n",
       "    }\n",
       "\n",
       "    .dataframe thead th {\n",
       "        text-align: right;\n",
       "    }\n",
       "</style>\n",
       "<table border=\"1\" class=\"dataframe\">\n",
       "  <thead>\n",
       "    <tr style=\"text-align: right;\">\n",
       "      <th></th>\n",
       "      <th>participantID</th>\n",
       "      <th>age</th>\n",
       "      <th>nativeLanguage</th>\n",
       "      <th>gender</th>\n",
       "      <th>education</th>\n",
       "      <th>city</th>\n",
       "      <th>country</th>\n",
       "      <th>responseID</th>\n",
       "      <th>section</th>\n",
       "      <th>cue</th>\n",
       "      <th>R1</th>\n",
       "      <th>R2</th>\n",
       "      <th>R3</th>\n",
       "    </tr>\n",
       "  </thead>\n",
       "  <tbody>\n",
       "    <tr>\n",
       "      <th>0</th>\n",
       "      <td>12</td>\n",
       "      <td>28</td>\n",
       "      <td>URU_R</td>\n",
       "      <td>Fe</td>\n",
       "      <td>4</td>\n",
       "      <td>Montevideo</td>\n",
       "      <td>Uruguay</td>\n",
       "      <td>128</td>\n",
       "      <td>set_2013</td>\n",
       "      <td>bar</td>\n",
       "      <td>abierto</td>\n",
       "      <td>cerveza</td>\n",
       "      <td>noche</td>\n",
       "    </tr>\n",
       "    <tr>\n",
       "      <th>1</th>\n",
       "      <td>12</td>\n",
       "      <td>28</td>\n",
       "      <td>URU_R</td>\n",
       "      <td>Fe</td>\n",
       "      <td>4</td>\n",
       "      <td>Montevideo</td>\n",
       "      <td>Uruguay</td>\n",
       "      <td>129</td>\n",
       "      <td>set_2013</td>\n",
       "      <td>tren</td>\n",
       "      <td>expreso</td>\n",
       "      <td>nocturno</td>\n",
       "      <td>bala</td>\n",
       "    </tr>\n",
       "    <tr>\n",
       "      <th>2</th>\n",
       "      <td>12</td>\n",
       "      <td>28</td>\n",
       "      <td>URU_R</td>\n",
       "      <td>Fe</td>\n",
       "      <td>4</td>\n",
       "      <td>Montevideo</td>\n",
       "      <td>Uruguay</td>\n",
       "      <td>130</td>\n",
       "      <td>set_2013</td>\n",
       "      <td>mano</td>\n",
       "      <td>libre</td>\n",
       "      <td>derecha</td>\n",
       "      <td>hermano</td>\n",
       "    </tr>\n",
       "    <tr>\n",
       "      <th>3</th>\n",
       "      <td>12</td>\n",
       "      <td>28</td>\n",
       "      <td>URU_R</td>\n",
       "      <td>Fe</td>\n",
       "      <td>4</td>\n",
       "      <td>Montevideo</td>\n",
       "      <td>Uruguay</td>\n",
       "      <td>131</td>\n",
       "      <td>set_2013</td>\n",
       "      <td>sopa</td>\n",
       "      <td>fría</td>\n",
       "      <td>Mafalda</td>\n",
       "      <td>verde</td>\n",
       "    </tr>\n",
       "    <tr>\n",
       "      <th>4</th>\n",
       "      <td>12</td>\n",
       "      <td>28</td>\n",
       "      <td>URU_R</td>\n",
       "      <td>Fe</td>\n",
       "      <td>4</td>\n",
       "      <td>Montevideo</td>\n",
       "      <td>Uruguay</td>\n",
       "      <td>132</td>\n",
       "      <td>set_2013</td>\n",
       "      <td>especie</td>\n",
       "      <td>ave</td>\n",
       "      <td>Darwin</td>\n",
       "      <td>extinción</td>\n",
       "    </tr>\n",
       "  </tbody>\n",
       "</table>\n",
       "</div>"
      ],
      "text/plain": [
       "   participantID  age nativeLanguage gender  education        city  country  \\\n",
       "0             12   28          URU_R     Fe          4  Montevideo  Uruguay   \n",
       "1             12   28          URU_R     Fe          4  Montevideo  Uruguay   \n",
       "2             12   28          URU_R     Fe          4  Montevideo  Uruguay   \n",
       "3             12   28          URU_R     Fe          4  Montevideo  Uruguay   \n",
       "4             12   28          URU_R     Fe          4  Montevideo  Uruguay   \n",
       "\n",
       "   responseID   section      cue       R1        R2         R3  \n",
       "0         128  set_2013      bar  abierto   cerveza      noche  \n",
       "1         129  set_2013     tren  expreso  nocturno       bala  \n",
       "2         130  set_2013     mano    libre   derecha    hermano  \n",
       "3         131  set_2013     sopa     fría   Mafalda      verde  \n",
       "4         132  set_2013  especie      ave    Darwin  extinción  "
      ]
     },
     "execution_count": 6,
     "metadata": {},
     "output_type": "execute_result"
    }
   ],
   "source": [
    "data.dropna(subset=['R1', 'R2', 'R3'], inplace=True)\n",
    "print(data.isnull().sum())\n",
    "data.head()"
   ]
  },
  {
   "cell_type": "code",
   "execution_count": 7,
   "id": "4fad3052",
   "metadata": {},
   "outputs": [],
   "source": [
    "le = LabelEncoder()\n",
    "categorical_columns = ['nativeLanguage', 'gender', 'city', 'country', 'section', 'cue']\n",
    "for col in categorical_columns:\n",
    "    data[col] = le.fit_transform(data[col])\n"
   ]
  },
  {
   "cell_type": "code",
   "execution_count": 8,
   "id": "51c4c956",
   "metadata": {},
   "outputs": [
    {
     "name": "stdout",
     "output_type": "stream",
     "text": [
      "   participantID  age  nativeLanguage  gender  education  city  country  \\\n",
      "0             12   28               3       0          4   406       62   \n",
      "1             12   28               3       0          4   406       62   \n",
      "2             12   28               3       0          4   406       62   \n",
      "3             12   28               3       0          4   406       62   \n",
      "4             12   28               3       0          4   406       62   \n",
      "\n",
      "   responseID  section   cue       R1        R2         R3  \n",
      "0         128        0  1115  abierto   cerveza      noche  \n",
      "1         129        0  8576  expreso  nocturno       bala  \n",
      "2         130        0  5438    libre   derecha    hermano  \n",
      "3         131        0  8089     fría   Mafalda      verde  \n",
      "4         132        0  3477      ave    Darwin  extinción  \n",
      "participantID     0\n",
      "age               0\n",
      "nativeLanguage    0\n",
      "gender            0\n",
      "education         0\n",
      "city              0\n",
      "country           0\n",
      "responseID        0\n",
      "section           0\n",
      "cue               0\n",
      "R1                0\n",
      "R2                0\n",
      "R3                0\n",
      "dtype: int64\n"
     ]
    }
   ],
   "source": [
    "print(data.head())\n",
    "print(data.isnull().sum())"
   ]
  },
  {
   "cell_type": "code",
   "execution_count": 10,
   "id": "6a60f18c",
   "metadata": {},
   "outputs": [],
   "source": [
    "data_sampled = data.sample(frac=0.02, random_state=42)"
   ]
  },
  {
   "cell_type": "code",
   "execution_count": 11,
   "id": "f7c9e461",
   "metadata": {},
   "outputs": [],
   "source": [
    "import pandas as pd\n",
    "from sklearn.model_selection import train_test_split\n",
    "from sklearn.preprocessing import StandardScaler, OneHotEncoder\n",
    "from sklearn.compose import ColumnTransformer\n",
    "from sklearn.ensemble import RandomForestClassifier\n",
    "from sklearn.metrics import accuracy_score, classification_report, confusion_matrix\n",
    "\n",
    "X = data.drop('age', axis=1)\n",
    "y = data['age']\n",
    "\n",
    "categorical_cols = X.select_dtypes(include=['object']).columns\n",
    "\n",
    "preprocessor = ColumnTransformer(\n",
    "    transformers=[\n",
    "        ('num', StandardScaler(), X.select_dtypes(exclude=['object']).columns),\n",
    "        ('cat', OneHotEncoder(handle_unknown='ignore'), categorical_cols)\n",
    "    ]\n",
    ")\n",
    "\n",
    "\n",
    "X_train, X_test, y_train, y_test = train_test_split(X, y, test_size=0.3, random_state=42)\n",
    "\n",
    "\n",
    "X_train = preprocessor.fit_transform(X_train)\n",
    "X_test = preprocessor.transform(X_test)"
   ]
  },
  {
   "cell_type": "code",
   "execution_count": 12,
   "id": "ec98adbe",
   "metadata": {},
   "outputs": [
    {
     "data": {
      "text/html": [
       "<style>#sk-container-id-1 {color: black;}#sk-container-id-1 pre{padding: 0;}#sk-container-id-1 div.sk-toggleable {background-color: white;}#sk-container-id-1 label.sk-toggleable__label {cursor: pointer;display: block;width: 100%;margin-bottom: 0;padding: 0.3em;box-sizing: border-box;text-align: center;}#sk-container-id-1 label.sk-toggleable__label-arrow:before {content: \"▸\";float: left;margin-right: 0.25em;color: #696969;}#sk-container-id-1 label.sk-toggleable__label-arrow:hover:before {color: black;}#sk-container-id-1 div.sk-estimator:hover label.sk-toggleable__label-arrow:before {color: black;}#sk-container-id-1 div.sk-toggleable__content {max-height: 0;max-width: 0;overflow: hidden;text-align: left;background-color: #f0f8ff;}#sk-container-id-1 div.sk-toggleable__content pre {margin: 0.2em;color: black;border-radius: 0.25em;background-color: #f0f8ff;}#sk-container-id-1 input.sk-toggleable__control:checked~div.sk-toggleable__content {max-height: 200px;max-width: 100%;overflow: auto;}#sk-container-id-1 input.sk-toggleable__control:checked~label.sk-toggleable__label-arrow:before {content: \"▾\";}#sk-container-id-1 div.sk-estimator input.sk-toggleable__control:checked~label.sk-toggleable__label {background-color: #d4ebff;}#sk-container-id-1 div.sk-label input.sk-toggleable__control:checked~label.sk-toggleable__label {background-color: #d4ebff;}#sk-container-id-1 input.sk-hidden--visually {border: 0;clip: rect(1px 1px 1px 1px);clip: rect(1px, 1px, 1px, 1px);height: 1px;margin: -1px;overflow: hidden;padding: 0;position: absolute;width: 1px;}#sk-container-id-1 div.sk-estimator {font-family: monospace;background-color: #f0f8ff;border: 1px dotted black;border-radius: 0.25em;box-sizing: border-box;margin-bottom: 0.5em;}#sk-container-id-1 div.sk-estimator:hover {background-color: #d4ebff;}#sk-container-id-1 div.sk-parallel-item::after {content: \"\";width: 100%;border-bottom: 1px solid gray;flex-grow: 1;}#sk-container-id-1 div.sk-label:hover label.sk-toggleable__label {background-color: #d4ebff;}#sk-container-id-1 div.sk-serial::before {content: \"\";position: absolute;border-left: 1px solid gray;box-sizing: border-box;top: 0;bottom: 0;left: 50%;z-index: 0;}#sk-container-id-1 div.sk-serial {display: flex;flex-direction: column;align-items: center;background-color: white;padding-right: 0.2em;padding-left: 0.2em;position: relative;}#sk-container-id-1 div.sk-item {position: relative;z-index: 1;}#sk-container-id-1 div.sk-parallel {display: flex;align-items: stretch;justify-content: center;background-color: white;position: relative;}#sk-container-id-1 div.sk-item::before, #sk-container-id-1 div.sk-parallel-item::before {content: \"\";position: absolute;border-left: 1px solid gray;box-sizing: border-box;top: 0;bottom: 0;left: 50%;z-index: -1;}#sk-container-id-1 div.sk-parallel-item {display: flex;flex-direction: column;z-index: 1;position: relative;background-color: white;}#sk-container-id-1 div.sk-parallel-item:first-child::after {align-self: flex-end;width: 50%;}#sk-container-id-1 div.sk-parallel-item:last-child::after {align-self: flex-start;width: 50%;}#sk-container-id-1 div.sk-parallel-item:only-child::after {width: 0;}#sk-container-id-1 div.sk-dashed-wrapped {border: 1px dashed gray;margin: 0 0.4em 0.5em 0.4em;box-sizing: border-box;padding-bottom: 0.4em;background-color: white;}#sk-container-id-1 div.sk-label label {font-family: monospace;font-weight: bold;display: inline-block;line-height: 1.2em;}#sk-container-id-1 div.sk-label-container {text-align: center;}#sk-container-id-1 div.sk-container {/* jupyter's `normalize.less` sets `[hidden] { display: none; }` but bootstrap.min.css set `[hidden] { display: none !important; }` so we also need the `!important` here to be able to override the default hidden behavior on the sphinx rendered scikit-learn.org. See: https://github.com/scikit-learn/scikit-learn/issues/21755 */display: inline-block !important;position: relative;}#sk-container-id-1 div.sk-text-repr-fallback {display: none;}</style><div id=\"sk-container-id-1\" class=\"sk-top-container\"><div class=\"sk-text-repr-fallback\"><pre>RandomForestClassifier(random_state=42)</pre><b>In a Jupyter environment, please rerun this cell to show the HTML representation or trust the notebook. <br />On GitHub, the HTML representation is unable to render, please try loading this page with nbviewer.org.</b></div><div class=\"sk-container\" hidden><div class=\"sk-item\"><div class=\"sk-estimator sk-toggleable\"><input class=\"sk-toggleable__control sk-hidden--visually\" id=\"sk-estimator-id-1\" type=\"checkbox\" checked><label for=\"sk-estimator-id-1\" class=\"sk-toggleable__label sk-toggleable__label-arrow\">RandomForestClassifier</label><div class=\"sk-toggleable__content\"><pre>RandomForestClassifier(random_state=42)</pre></div></div></div></div></div>"
      ],
      "text/plain": [
       "RandomForestClassifier(random_state=42)"
      ]
     },
     "execution_count": 12,
     "metadata": {},
     "output_type": "execute_result"
    }
   ],
   "source": [
    "from sklearn.ensemble import RandomForestClassifier\n",
    "from sklearn.metrics import accuracy_score, precision_score, recall_score, confusion_matrix\n",
    "from sklearn.decomposition import PCA\n",
    "from sklearn.linear_model import LogisticRegression\n",
    "from sklearn.linear_model import SGDClassifier\n",
    "\n",
    "model = RandomForestClassifier(n_estimators=100, random_state=42)\n",
    "model.fit(X_train, y_train)\n"
   ]
  },
  {
   "cell_type": "code",
   "execution_count": 13,
   "id": "e5ef8431",
   "metadata": {},
   "outputs": [],
   "source": [
    "y_pred = model.predict(X_test)"
   ]
  },
  {
   "cell_type": "code",
   "execution_count": 14,
   "id": "ed0daea4",
   "metadata": {},
   "outputs": [
    {
     "name": "stdout",
     "output_type": "stream",
     "text": [
      "Accuracy: 0.5254501385041551\n"
     ]
    },
    {
     "name": "stderr",
     "output_type": "stream",
     "text": [
      "C:\\ProgramData\\anaconda3\\Lib\\site-packages\\sklearn\\metrics\\_classification.py:1469: UndefinedMetricWarning: Precision and F-score are ill-defined and being set to 0.0 in labels with no predicted samples. Use `zero_division` parameter to control this behavior.\n",
      "  _warn_prf(average, modifier, msg_start, len(result))\n",
      "C:\\ProgramData\\anaconda3\\Lib\\site-packages\\sklearn\\metrics\\_classification.py:1469: UndefinedMetricWarning: Precision and F-score are ill-defined and being set to 0.0 in labels with no predicted samples. Use `zero_division` parameter to control this behavior.\n",
      "  _warn_prf(average, modifier, msg_start, len(result))\n",
      "C:\\ProgramData\\anaconda3\\Lib\\site-packages\\sklearn\\metrics\\_classification.py:1469: UndefinedMetricWarning: Precision and F-score are ill-defined and being set to 0.0 in labels with no predicted samples. Use `zero_division` parameter to control this behavior.\n",
      "  _warn_prf(average, modifier, msg_start, len(result))\n"
     ]
    },
    {
     "name": "stdout",
     "output_type": "stream",
     "text": [
      "              precision    recall  f1-score   support\n",
      "\n",
      "           5       0.00      0.00      0.00         6\n",
      "           6       0.50      0.50      0.50         6\n",
      "           8       0.86      0.89      0.87       107\n",
      "           9       0.82      0.64      0.72        50\n",
      "          10       0.90      0.65      0.75       108\n",
      "          11       0.92      0.88      0.89       112\n",
      "          12       0.80      0.69      0.75       213\n",
      "          13       0.77      0.48      0.59       435\n",
      "          14       0.66      0.46      0.54       417\n",
      "          15       0.65      0.48      0.55      1012\n",
      "          16       0.59      0.56      0.57      1499\n",
      "          17       0.51      0.62      0.56      2441\n",
      "          18       0.45      0.62      0.52      4048\n",
      "          19       0.45      0.58      0.51      5221\n",
      "          20       0.45      0.57      0.51      5207\n",
      "          21       0.48      0.60      0.53      4842\n",
      "          22       0.48      0.51      0.50      4826\n",
      "          23       0.49      0.51      0.50      4391\n",
      "          24       0.52      0.50      0.51      4278\n",
      "          25       0.51      0.52      0.51      4067\n",
      "          26       0.49      0.50      0.50      4025\n",
      "          27       0.49      0.52      0.50      4251\n",
      "          28       0.52      0.56      0.54      4480\n",
      "          29       0.51      0.51      0.51      4294\n",
      "          30       0.52      0.54      0.53      4648\n",
      "          31       0.55      0.49      0.52      3975\n",
      "          32       0.52      0.51      0.51      4439\n",
      "          33       0.51      0.50      0.51      3850\n",
      "          34       0.51      0.47      0.49      3712\n",
      "          35       0.53      0.54      0.53      3747\n",
      "          36       0.53      0.54      0.53      3642\n",
      "          37       0.56      0.52      0.54      3419\n",
      "          38       0.52      0.52      0.52      3683\n",
      "          39       0.53      0.45      0.49      2900\n",
      "          40       0.56      0.56      0.56      3486\n",
      "          41       0.54      0.48      0.51      2954\n",
      "          42       0.52      0.46      0.49      2791\n",
      "          43       0.57      0.46      0.51      2565\n",
      "          44       0.54      0.52      0.53      3041\n",
      "          45       0.54      0.47      0.51      2821\n",
      "          46       0.58      0.48      0.52      2285\n",
      "          47       0.60      0.49      0.54      2549\n",
      "          48       0.52      0.53      0.52      2604\n",
      "          49       0.60      0.49      0.54      2283\n",
      "          50       0.56      0.55      0.55      3283\n",
      "          51       0.56      0.48      0.52      2493\n",
      "          52       0.55      0.54      0.54      2670\n",
      "          53       0.62      0.51      0.56      2450\n",
      "          54       0.56      0.50      0.53      2595\n",
      "          55       0.59      0.61      0.60      3289\n",
      "          56       0.55      0.57      0.56      2305\n",
      "          57       0.54      0.53      0.53      2155\n",
      "          58       0.54      0.55      0.54      2239\n",
      "          59       0.52      0.61      0.56      2187\n",
      "          60       0.51      0.56      0.53      2299\n",
      "          61       0.49      0.55      0.52      1619\n",
      "          62       0.58      0.49      0.53      1119\n",
      "          63       0.55      0.53      0.54      1233\n",
      "          64       0.55      0.51      0.53      1118\n",
      "          65       0.53      0.56      0.54      1192\n",
      "          66       0.50      0.51      0.50       869\n",
      "          67       0.59      0.48      0.53       795\n",
      "          68       0.60      0.49      0.54       872\n",
      "          69       0.61      0.47      0.53       702\n",
      "          70       0.58      0.55      0.57       961\n",
      "          71       0.69      0.52      0.59       533\n",
      "          72       0.63      0.47      0.54       515\n",
      "          73       0.52      0.31      0.39       303\n",
      "          74       0.55      0.34      0.42       284\n",
      "          75       0.68      0.38      0.48       324\n",
      "          76       0.68      0.42      0.52       266\n",
      "          77       0.65      0.39      0.49       202\n",
      "          78       0.59      0.30      0.40       236\n",
      "          79       0.80      0.47      0.59        92\n",
      "          80       0.73      0.34      0.46       140\n",
      "          81       0.87      0.61      0.72        54\n",
      "          82       0.78      0.54      0.64        59\n",
      "          83       0.93      0.52      0.67        25\n",
      "          84       0.81      0.46      0.59        56\n",
      "          85       0.55      0.46      0.50        26\n",
      "          86       0.69      0.45      0.55        20\n",
      "          88       1.00      0.11      0.20         9\n",
      "          89       0.00      0.00      0.00         1\n",
      "          91       0.00      0.00      0.00         8\n",
      "          96       1.00      1.00      1.00         3\n",
      "          97       1.00      1.00      1.00         9\n",
      "          99       0.71      0.34      0.46       164\n",
      "\n",
      "    accuracy                           0.53    167504\n",
      "   macro avg       0.59      0.50      0.53    167504\n",
      "weighted avg       0.53      0.53      0.53    167504\n",
      "\n",
      "[[ 0  0  0 ...  0  0  0]\n",
      " [ 0  3  0 ...  0  0  0]\n",
      " [ 0  0 95 ...  0  0  0]\n",
      " ...\n",
      " [ 0  0  0 ...  3  0  0]\n",
      " [ 0  0  0 ...  0  9  0]\n",
      " [ 0  0  0 ...  0  0 56]]\n"
     ]
    }
   ],
   "source": [
    "from sklearn.metrics import accuracy_score, classification_report, confusion_matrix\n",
    "accuracy = accuracy_score(y_test, y_pred)\n",
    "print(f'Accuracy: {accuracy}')\n",
    "\n",
    "print(classification_report(y_test, y_pred))\n",
    "\n",
    "print(confusion_matrix(y_test, y_pred))"
   ]
  },
  {
   "cell_type": "code",
   "execution_count": 15,
   "id": "06b33b62",
   "metadata": {},
   "outputs": [
    {
     "data": {
      "text/plain": [
       "['random_forest_model.pkl']"
      ]
     },
     "execution_count": 15,
     "metadata": {},
     "output_type": "execute_result"
    }
   ],
   "source": [
    "import joblib\n",
    "joblib.dump(model, 'random_forest_model.pkl')"
   ]
  },
  {
   "cell_type": "code",
   "execution_count": null,
   "id": "011bbaea",
   "metadata": {},
   "outputs": [],
   "source": []
  }
 ],
 "metadata": {
  "kernelspec": {
   "display_name": "Python 3 (ipykernel)",
   "language": "python",
   "name": "python3"
  },
  "language_info": {
   "codemirror_mode": {
    "name": "ipython",
    "version": 3
   },
   "file_extension": ".py",
   "mimetype": "text/x-python",
   "name": "python",
   "nbconvert_exporter": "python",
   "pygments_lexer": "ipython3",
   "version": "3.11.5"
  }
 },
 "nbformat": 4,
 "nbformat_minor": 5
}
