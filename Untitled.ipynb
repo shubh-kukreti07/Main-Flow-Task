{
 "cells": [
  {
   "cell_type": "code",
   "execution_count": 1,
   "id": "5ad06659",
   "metadata": {},
   "outputs": [
    {
     "name": "stdout",
     "output_type": "stream",
     "text": [
      "List after adding an element: [1, 2, 3, 4, 5, 6]\n",
      "List after removing an element: [1, 2, 4, 5, 6]\n",
      "List after modifying an element: [1, 2, 10, 5, 6]\n"
     ]
    }
   ],
   "source": [
    "#list\n",
    "my_list = [1, 2, 3, 4, 5]\n",
    "my_list.append(6)\n",
    "print(\"List after adding an element:\", my_list)\n",
    "my_list.remove(3)\n",
    "print(\"List after removing an element:\", my_list)\n",
    "my_list[2] = 10\n",
    "print(\"List after modifying an element:\", my_list)\n",
    "\n"
   ]
  },
  {
   "cell_type": "code",
   "execution_count": 2,
   "id": "32f31830",
   "metadata": {},
   "outputs": [
    {
     "name": "stdout",
     "output_type": "stream",
     "text": [
      "Set after adding an element: {1, 2, 3, 4, 5, 6}\n",
      "Set after removing an element: {1, 2, 3, 5, 6}\n",
      "Set after modifying an element: {1, 2, 5, 6, 10}\n"
     ]
    }
   ],
   "source": [
    "\n",
    "# set\n",
    "my_set = {1, 2, 3, 4, 5}\n",
    "my_set.add(6)\n",
    "print(\"Set after adding an element:\", my_set)\n",
    "my_set.remove(4)\n",
    "print(\"Set after removing an element:\", my_set)\n",
    "my_set.remove(3)\n",
    "my_set.add(10)\n",
    "print(\"Set after modifying an element:\", my_set)\n"
   ]
  },
  {
   "cell_type": "code",
   "execution_count": 3,
   "id": "275b7515",
   "metadata": {},
   "outputs": [
    {
     "name": "stdout",
     "output_type": "stream",
     "text": [
      "Dictionary after adding an element: {'a': 1, 'b': 2, 'c': 3, 'd': 4}\n",
      "Dictionary after removing an element: {'a': 1, 'c': 3, 'd': 4}\n",
      "Dictionary after modifying an element: {'a': 10, 'c': 3, 'd': 4}\n"
     ]
    }
   ],
   "source": [
    "# dictionary\n",
    "my_dict = {'a': 1, 'b': 2, 'c': 3}\n",
    "\n",
    "my_dict['d'] = 4\n",
    "print(\"Dictionary after adding an element:\", my_dict)\n",
    "\n",
    "del my_dict['b']\n",
    "print(\"Dictionary after removing an element:\", my_dict)\n",
    "\n",
    "my_dict['a'] = 10\n",
    "print(\"Dictionary after modifying an element:\", my_dict)\n"
   ]
  },
  {
   "cell_type": "code",
   "execution_count": null,
   "id": "23897251",
   "metadata": {},
   "outputs": [],
   "source": []
  }
 ],
 "metadata": {
  "kernelspec": {
   "display_name": "Python 3 (ipykernel)",
   "language": "python",
   "name": "python3"
  },
  "language_info": {
   "codemirror_mode": {
    "name": "ipython",
    "version": 3
   },
   "file_extension": ".py",
   "mimetype": "text/x-python",
   "name": "python",
   "nbconvert_exporter": "python",
   "pygments_lexer": "ipython3",
   "version": "3.11.5"
  }
 },
 "nbformat": 4,
 "nbformat_minor": 5
}
